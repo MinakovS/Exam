{
  "cells": [
    {
      "cell_type": "markdown",
      "metadata": {
        "id": "view-in-github",
        "colab_type": "text"
      },
      "source": [
        "<a href=\"https://colab.research.google.com/github/MinakovS/Exam/blob/main/%D0%94%D0%BE%D0%B1%D1%80%D0%BE_%D0%BF%D0%BE%D0%B6%D0%B0%D0%BB%D0%BE%D0%B2%D0%B0%D1%82%D1%8C_%D0%B2_Colaboratory!.ipynb\" target=\"_parent\"><img src=\"https://colab.research.google.com/assets/colab-badge.svg\" alt=\"Open In Colab\"/></a>"
      ]
    },
    {
      "cell_type": "markdown",
      "source": [
        "# Новый раздел\n",
        "Владелец ИТ компании утверждает, что каждый будний день обслуживает одинаковое количество клиентов. Чтобы проверить эту гипотезу, исследователь записывает количество клиентов, которые обращаются в службу поддержки, и обнаруживает следующее:\n",
        "\n",
        "- Понедельник: 46 клиентов\n",
        "- Вторник: 50 клиентов\n",
        "- Среда: 47 клиентов\n",
        "- Четверг: 53 клиентов\n",
        "- Пятница: 54 клиента\n",
        "\n",
        "Используйте следующие шаги, чтобы выполнить тест на соответствие хи-квадрат в Python, чтобы определить, согласуются ли данные с мнением владельца ИТ компании."
      ],
      "metadata": {
        "id": "TeMw5Ck1ENAh"
      }
    },
    {
      "cell_type": "code",
      "source": [
        "expected = [50,50,50,50,50]\n",
        "observed = [46, 50, 47, 53, 54]"
      ],
      "metadata": {
        "id": "kuM7K6H5Ee1R"
      },
      "execution_count": 22,
      "outputs": []
    },
    {
      "cell_type": "code",
      "source": [
        "import scipy.stats as stats\n",
        "\n",
        "#perform Chi-Square Goodness of Fit Test\n",
        "stats.chisquare(f_obs=observed, f_exp=expected)"
      ],
      "metadata": {
        "id": "bsa-Wu10EjhQ",
        "outputId": "fb1cc69d-6844-43ec-ca67-61f510cda87a",
        "colab": {
          "base_uri": "https://localhost:8080/"
        }
      },
      "execution_count": 23,
      "outputs": [
        {
          "output_type": "execute_result",
          "data": {
            "text/plain": [
              "Power_divergenceResult(statistic=1.0, pvalue=0.9097959895689501)"
            ]
          },
          "metadata": {},
          "execution_count": 23
        }
      ]
    },
    {
      "cell_type": "markdown",
      "source": [
        "Напомним, что критерий согласия Хи-квадрат использует следующие нулевую и альтернативную гипотезы:\n",
        "\n",
        "$H_0$ : (нулевая гипотеза). Переменная следует за гипотетическим распределением.\n",
        "\n",
        "$H_1$ : (альтернативная гипотеза). Переменная не подчиняется предполагаемому распределению.\n",
        "\n",
        "Если p-значение близко к 1, это означает что распределения статистически похожи, то есть гипотеза $H_0$ - верна.\n",
        "\n",
        "Предположим, что в компании работает 10000 сотрудников службы поддержки клиентов, а среднее время между звонками клиентов составляет 10 минут.\n",
        "\n",
        "Какова вероятность того, что клиент позвонит в ближайшие 4-5 минут?"
      ],
      "metadata": {
        "id": "S7oL7k4ZEmRX"
      }
    },
    {
      "cell_type": "code",
      "source": [
        "import numpy as np\n",
        "\n",
        "n = 10000\n",
        "time_between_calls = np.random.default_rng().exponential(scale=10, size=n)\n",
        "\n",
        "x = ((time_between_calls < 5).sum())/n\n",
        "y = ((time_between_calls < 4).sum())/n\n",
        "x-y"
      ],
      "metadata": {
        "id": "VHbWYghwEpOQ",
        "outputId": "291cce85-e1a9-4b44-bbef-95a9c6f93e16",
        "colab": {
          "base_uri": "https://localhost:8080/"
        }
      },
      "execution_count": 24,
      "outputs": [
        {
          "output_type": "execute_result",
          "data": {
            "text/plain": [
              "0.06509999999999999"
            ]
          },
          "metadata": {},
          "execution_count": 24
        }
      ]
    }
  ],
  "metadata": {
    "colab": {
      "name": "Добро пожаловать в Colaboratory!",
      "toc_visible": true,
      "provenance": [],
      "include_colab_link": true
    },
    "kernelspec": {
      "display_name": "Python 3",
      "name": "python3"
    }
  },
  "nbformat": 4,
  "nbformat_minor": 0
}